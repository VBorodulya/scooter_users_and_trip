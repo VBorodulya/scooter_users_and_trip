{
 "cells": [
  {
   "cell_type": "markdown",
   "id": "a0395a61",
   "metadata": {
    "jp-MarkdownHeadingCollapsed": true
   },
   "source": [
    "### Описание задачи\n",
    "Проанализировать данные о пользователях сервиса аренды самокатов из нескольких городов, а также об их поездках, и проверить гипотезы, которые могут помочь бизнесу вырасти.\n",
    "### Цели исследования\n",
    "1. Определить частоту встречаемости городов.\n",
    "2. Выявить соотношение пользователей с подпиской и без подписки.\n",
    "3. Проанализировать возраст пользователей, расстояние, которое пользователь преодолел за одну поездку, и продолжительность поездок.\n",
    "4. Подсчитать помесячную выручку от пользователей с подпиской и без подписки.\n",
    "5. Проверить несколько гипотез для планируемого запуска промоакций, стимулирующих пользователей покупать подписку.\n",
    "\n",
    "### Ход исследования\n",
    "1. Загрузка и обзор данных.\n",
    "2. Предобработка данных.\n",
    "3. Исследовательский анализ данных.\n",
    "4. Преобразование данных.\n",
    "5. Подсчёт выручки.\n",
    "6. Проверка гипотез."
   ]
  },
  {
   "cell_type": "markdown",
   "id": "6f51f0f4",
   "metadata": {},
   "source": [
    "# Загрузка и обзор данных"
   ]
  },
  {
   "cell_type": "code",
   "execution_count": 320,
   "id": "275cc63e",
   "metadata": {},
   "outputs": [],
   "source": [
    "import pandas as pd\n",
    "import matplotlib.pyplot as plt\n",
    "import numpy as np\n",
    "from scipy import stats as st"
   ]
  },
  {
   "cell_type": "code",
   "execution_count": 321,
   "id": "ab94232c",
   "metadata": {},
   "outputs": [],
   "source": [
    "users = pd.read_csv('users_go.csv')\n",
    "rides = pd.read_csv('rides_go.csv', parse_dates=['date'])\n",
    "subs = pd.read_csv('subscriptions_go.csv')"
   ]
  },
  {
   "cell_type": "code",
   "execution_count": 322,
   "id": "a617cfd7",
   "metadata": {},
   "outputs": [
    {
     "data": {
      "text/html": [
       "<div>\n",
       "<style scoped>\n",
       "    .dataframe tbody tr th:only-of-type {\n",
       "        vertical-align: middle;\n",
       "    }\n",
       "\n",
       "    .dataframe tbody tr th {\n",
       "        vertical-align: top;\n",
       "    }\n",
       "\n",
       "    .dataframe thead th {\n",
       "        text-align: right;\n",
       "    }\n",
       "</style>\n",
       "<table border=\"1\" class=\"dataframe\">\n",
       "  <thead>\n",
       "    <tr style=\"text-align: right;\">\n",
       "      <th></th>\n",
       "      <th>user_id</th>\n",
       "      <th>name</th>\n",
       "      <th>age</th>\n",
       "      <th>city</th>\n",
       "      <th>subscription_type</th>\n",
       "    </tr>\n",
       "  </thead>\n",
       "  <tbody>\n",
       "    <tr>\n",
       "      <th>0</th>\n",
       "      <td>1</td>\n",
       "      <td>Кира</td>\n",
       "      <td>22</td>\n",
       "      <td>Тюмень</td>\n",
       "      <td>ultra</td>\n",
       "    </tr>\n",
       "    <tr>\n",
       "      <th>1</th>\n",
       "      <td>2</td>\n",
       "      <td>Станислав</td>\n",
       "      <td>31</td>\n",
       "      <td>Омск</td>\n",
       "      <td>ultra</td>\n",
       "    </tr>\n",
       "    <tr>\n",
       "      <th>2</th>\n",
       "      <td>3</td>\n",
       "      <td>Алексей</td>\n",
       "      <td>20</td>\n",
       "      <td>Москва</td>\n",
       "      <td>ultra</td>\n",
       "    </tr>\n",
       "    <tr>\n",
       "      <th>3</th>\n",
       "      <td>4</td>\n",
       "      <td>Константин</td>\n",
       "      <td>26</td>\n",
       "      <td>Ростов-на-Дону</td>\n",
       "      <td>ultra</td>\n",
       "    </tr>\n",
       "    <tr>\n",
       "      <th>4</th>\n",
       "      <td>5</td>\n",
       "      <td>Адель</td>\n",
       "      <td>28</td>\n",
       "      <td>Омск</td>\n",
       "      <td>ultra</td>\n",
       "    </tr>\n",
       "  </tbody>\n",
       "</table>\n",
       "</div>"
      ],
      "text/plain": [
       "   user_id        name  age            city subscription_type\n",
       "0        1        Кира   22          Тюмень             ultra\n",
       "1        2   Станислав   31            Омск             ultra\n",
       "2        3     Алексей   20          Москва             ultra\n",
       "3        4  Константин   26  Ростов-на-Дону             ultra\n",
       "4        5       Адель   28            Омск             ultra"
      ]
     },
     "execution_count": 322,
     "metadata": {},
     "output_type": "execute_result"
    }
   ],
   "source": [
    "users.head()"
   ]
  },
  {
   "cell_type": "code",
   "execution_count": 323,
   "id": "043ed602",
   "metadata": {},
   "outputs": [
    {
     "name": "stdout",
     "output_type": "stream",
     "text": [
      "<class 'pandas.core.frame.DataFrame'>\n",
      "RangeIndex: 1565 entries, 0 to 1564\n",
      "Data columns (total 5 columns):\n",
      " #   Column             Non-Null Count  Dtype \n",
      "---  ------             --------------  ----- \n",
      " 0   user_id            1565 non-null   int64 \n",
      " 1   name               1565 non-null   object\n",
      " 2   age                1565 non-null   int64 \n",
      " 3   city               1565 non-null   object\n",
      " 4   subscription_type  1565 non-null   object\n",
      "dtypes: int64(2), object(3)\n",
      "memory usage: 61.3+ KB\n"
     ]
    }
   ],
   "source": [
    "users.info()"
   ]
  },
  {
   "cell_type": "code",
   "execution_count": 324,
   "id": "f540ca75",
   "metadata": {},
   "outputs": [
    {
     "data": {
      "text/html": [
       "<div>\n",
       "<style scoped>\n",
       "    .dataframe tbody tr th:only-of-type {\n",
       "        vertical-align: middle;\n",
       "    }\n",
       "\n",
       "    .dataframe tbody tr th {\n",
       "        vertical-align: top;\n",
       "    }\n",
       "\n",
       "    .dataframe thead th {\n",
       "        text-align: right;\n",
       "    }\n",
       "</style>\n",
       "<table border=\"1\" class=\"dataframe\">\n",
       "  <thead>\n",
       "    <tr style=\"text-align: right;\">\n",
       "      <th></th>\n",
       "      <th>user_id</th>\n",
       "      <th>distance</th>\n",
       "      <th>duration</th>\n",
       "      <th>date</th>\n",
       "    </tr>\n",
       "  </thead>\n",
       "  <tbody>\n",
       "    <tr>\n",
       "      <th>0</th>\n",
       "      <td>1</td>\n",
       "      <td>4409.919140</td>\n",
       "      <td>25.599769</td>\n",
       "      <td>2021-01-01</td>\n",
       "    </tr>\n",
       "    <tr>\n",
       "      <th>1</th>\n",
       "      <td>1</td>\n",
       "      <td>2617.592153</td>\n",
       "      <td>15.816871</td>\n",
       "      <td>2021-01-18</td>\n",
       "    </tr>\n",
       "    <tr>\n",
       "      <th>2</th>\n",
       "      <td>1</td>\n",
       "      <td>754.159807</td>\n",
       "      <td>6.232113</td>\n",
       "      <td>2021-04-20</td>\n",
       "    </tr>\n",
       "    <tr>\n",
       "      <th>3</th>\n",
       "      <td>1</td>\n",
       "      <td>2694.783254</td>\n",
       "      <td>18.511000</td>\n",
       "      <td>2021-08-11</td>\n",
       "    </tr>\n",
       "    <tr>\n",
       "      <th>4</th>\n",
       "      <td>1</td>\n",
       "      <td>4028.687306</td>\n",
       "      <td>26.265803</td>\n",
       "      <td>2021-08-28</td>\n",
       "    </tr>\n",
       "  </tbody>\n",
       "</table>\n",
       "</div>"
      ],
      "text/plain": [
       "   user_id     distance   duration       date\n",
       "0        1  4409.919140  25.599769 2021-01-01\n",
       "1        1  2617.592153  15.816871 2021-01-18\n",
       "2        1   754.159807   6.232113 2021-04-20\n",
       "3        1  2694.783254  18.511000 2021-08-11\n",
       "4        1  4028.687306  26.265803 2021-08-28"
      ]
     },
     "execution_count": 324,
     "metadata": {},
     "output_type": "execute_result"
    }
   ],
   "source": [
    "rides.head()"
   ]
  },
  {
   "cell_type": "code",
   "execution_count": 325,
   "id": "30e3c12e",
   "metadata": {},
   "outputs": [
    {
     "name": "stdout",
     "output_type": "stream",
     "text": [
      "<class 'pandas.core.frame.DataFrame'>\n",
      "RangeIndex: 18068 entries, 0 to 18067\n",
      "Data columns (total 4 columns):\n",
      " #   Column    Non-Null Count  Dtype         \n",
      "---  ------    --------------  -----         \n",
      " 0   user_id   18068 non-null  int64         \n",
      " 1   distance  18068 non-null  float64       \n",
      " 2   duration  18068 non-null  float64       \n",
      " 3   date      18068 non-null  datetime64[ns]\n",
      "dtypes: datetime64[ns](1), float64(2), int64(1)\n",
      "memory usage: 564.8 KB\n"
     ]
    }
   ],
   "source": [
    "rides.info()"
   ]
  },
  {
   "cell_type": "code",
   "execution_count": 326,
   "id": "996e49cd",
   "metadata": {},
   "outputs": [
    {
     "data": {
      "text/html": [
       "<div>\n",
       "<style scoped>\n",
       "    .dataframe tbody tr th:only-of-type {\n",
       "        vertical-align: middle;\n",
       "    }\n",
       "\n",
       "    .dataframe tbody tr th {\n",
       "        vertical-align: top;\n",
       "    }\n",
       "\n",
       "    .dataframe thead th {\n",
       "        text-align: right;\n",
       "    }\n",
       "</style>\n",
       "<table border=\"1\" class=\"dataframe\">\n",
       "  <thead>\n",
       "    <tr style=\"text-align: right;\">\n",
       "      <th></th>\n",
       "      <th>subscription_type</th>\n",
       "      <th>minute_price</th>\n",
       "      <th>start_ride_price</th>\n",
       "      <th>subscription_fee</th>\n",
       "    </tr>\n",
       "  </thead>\n",
       "  <tbody>\n",
       "    <tr>\n",
       "      <th>0</th>\n",
       "      <td>free</td>\n",
       "      <td>8</td>\n",
       "      <td>50</td>\n",
       "      <td>0</td>\n",
       "    </tr>\n",
       "    <tr>\n",
       "      <th>1</th>\n",
       "      <td>ultra</td>\n",
       "      <td>6</td>\n",
       "      <td>0</td>\n",
       "      <td>199</td>\n",
       "    </tr>\n",
       "  </tbody>\n",
       "</table>\n",
       "</div>"
      ],
      "text/plain": [
       "  subscription_type  minute_price  start_ride_price  subscription_fee\n",
       "0              free             8                50                 0\n",
       "1             ultra             6                 0               199"
      ]
     },
     "execution_count": 326,
     "metadata": {},
     "output_type": "execute_result"
    }
   ],
   "source": [
    "subs.head()"
   ]
  },
  {
   "cell_type": "code",
   "execution_count": 327,
   "id": "d78a0dc3",
   "metadata": {},
   "outputs": [
    {
     "name": "stdout",
     "output_type": "stream",
     "text": [
      "<class 'pandas.core.frame.DataFrame'>\n",
      "RangeIndex: 2 entries, 0 to 1\n",
      "Data columns (total 4 columns):\n",
      " #   Column             Non-Null Count  Dtype \n",
      "---  ------             --------------  ----- \n",
      " 0   subscription_type  2 non-null      object\n",
      " 1   minute_price       2 non-null      int64 \n",
      " 2   start_ride_price   2 non-null      int64 \n",
      " 3   subscription_fee   2 non-null      int64 \n",
      "dtypes: int64(3), object(1)\n",
      "memory usage: 192.0+ bytes\n"
     ]
    }
   ],
   "source": [
    "subs.info()"
   ]
  },
  {
   "cell_type": "markdown",
   "id": "8f1fd161",
   "metadata": {},
   "source": [
    "Как мы видим по результатам вывода методов info() и head(), все три датафрейма не имеют нулевых или отсутствующих значений, типы данных не требуют форматирования, а структура и содержание данных на первый взгляд представляются понятными и пока что не вызывают вопросов."
   ]
  },
  {
   "cell_type": "markdown",
   "id": "90cdd809",
   "metadata": {},
   "source": [
    "# Предобработка данных"
   ]
  },
  {
   "cell_type": "code",
   "execution_count": 328,
   "id": "f56932db",
   "metadata": {},
   "outputs": [
    {
     "name": "stdout",
     "output_type": "stream",
     "text": [
      "2021-01-01 00:00:00\n",
      "2021-12-30 00:00:00\n"
     ]
    }
   ],
   "source": [
    "# Прежде, чем приступить к созданию нового столбца, проверим временной интервал имеющихся в столбце date значений.\n",
    "print(rides['date'].min())\n",
    "print(rides['date'].max())"
   ]
  },
  {
   "cell_type": "code",
   "execution_count": 329,
   "id": "13b7c0ee",
   "metadata": {},
   "outputs": [
    {
     "data": {
      "text/plain": [
       "0         1\n",
       "1         1\n",
       "2         4\n",
       "3         8\n",
       "4         8\n",
       "         ..\n",
       "18063    11\n",
       "18064    11\n",
       "18065    11\n",
       "18066    11\n",
       "18067    12\n",
       "Name: month, Length: 18068, dtype: int64"
      ]
     },
     "execution_count": 329,
     "metadata": {},
     "output_type": "execute_result"
    }
   ],
   "source": [
    "# Создаём новый столбец с номером месяца.\n",
    "rides['month'] = rides['date'].dt.month\n",
    "rides['month']"
   ]
  },
  {
   "cell_type": "code",
   "execution_count": 330,
   "id": "21d4e9ac",
   "metadata": {},
   "outputs": [
    {
     "data": {
      "text/plain": [
       "user_id              0\n",
       "name                 0\n",
       "age                  0\n",
       "city                 0\n",
       "subscription_type    0\n",
       "dtype: int64"
      ]
     },
     "execution_count": 330,
     "metadata": {},
     "output_type": "execute_result"
    }
   ],
   "source": [
    "# Используя сочетание метода isna() и функции sum(), выводим количество пропущенных значений в датафрейме users.\n",
    "users.isna().sum()"
   ]
  },
  {
   "cell_type": "code",
   "execution_count": 331,
   "id": "1334f649",
   "metadata": {},
   "outputs": [
    {
     "data": {
      "text/plain": [
       "user_id     0\n",
       "distance    0\n",
       "duration    0\n",
       "date        0\n",
       "month       0\n",
       "dtype: int64"
      ]
     },
     "execution_count": 331,
     "metadata": {},
     "output_type": "execute_result"
    }
   ],
   "source": [
    "# В датафрейме rides.\n",
    "rides.isna().sum()"
   ]
  },
  {
   "cell_type": "code",
   "execution_count": 332,
   "id": "49fa2f29",
   "metadata": {},
   "outputs": [
    {
     "data": {
      "text/plain": [
       "subscription_type    0\n",
       "minute_price         0\n",
       "start_ride_price     0\n",
       "subscription_fee     0\n",
       "dtype: int64"
      ]
     },
     "execution_count": 332,
     "metadata": {},
     "output_type": "execute_result"
    }
   ],
   "source": [
    "# И в subs.\n",
    "subs.isna().sum()"
   ]
  },
  {
   "cell_type": "markdown",
   "id": "65bea0ff",
   "metadata": {},
   "source": [
    "## Пропущенные значения\n",
    "Видим, что пропусков нет. Идём дальше."
   ]
  },
  {
   "cell_type": "code",
   "execution_count": 333,
   "id": "668ffe36",
   "metadata": {},
   "outputs": [
    {
     "data": {
      "text/plain": [
       "31"
      ]
     },
     "execution_count": 333,
     "metadata": {},
     "output_type": "execute_result"
    }
   ],
   "source": [
    "# Приступаем к работе с дубликатами. Методом duplicated() в сочетании с sum() проверим наличие явных дубликатов в users.\n",
    "users.duplicated().sum()"
   ]
  },
  {
   "cell_type": "code",
   "execution_count": 334,
   "id": "73bf651a",
   "metadata": {},
   "outputs": [
    {
     "data": {
      "text/plain": [
       "0"
      ]
     },
     "execution_count": 334,
     "metadata": {},
     "output_type": "execute_result"
    }
   ],
   "source": [
    "# В rides.\n",
    "rides.duplicated().sum()"
   ]
  },
  {
   "cell_type": "code",
   "execution_count": 335,
   "id": "e58e028a",
   "metadata": {},
   "outputs": [
    {
     "data": {
      "text/plain": [
       "0"
      ]
     },
     "execution_count": 335,
     "metadata": {},
     "output_type": "execute_result"
    }
   ],
   "source": [
    "# И subs.\n",
    "subs.duplicated().sum()"
   ]
  },
  {
   "cell_type": "code",
   "execution_count": 336,
   "id": "da904e8b",
   "metadata": {},
   "outputs": [
    {
     "data": {
      "text/plain": [
       "0"
      ]
     },
     "execution_count": 336,
     "metadata": {},
     "output_type": "execute_result"
    }
   ],
   "source": [
    "# Явные дубликаты нашлись только в датафрейме users. Удаляем их методом drop_duplicates() и убеждаемся, что дубликатов нет.\n",
    "users.drop_duplicates(inplace=True)\n",
    "users.duplicated().sum()"
   ]
  },
  {
   "cell_type": "markdown",
   "id": "4d885e6f",
   "metadata": {},
   "source": [
    "## Дубликаты\n",
    "В *users* была удалена 31 строка-дубликат, в других датафреймах явных дубликатов обнаружено не было.\n",
    "\n",
    "Исходя из особенностей датафреймов — а именно уникальности значений в столбцах, — проверять их на наличие неявных дубликатов не имеет смысла."
   ]
  },
  {
   "cell_type": "markdown",
   "id": "0306cc6d",
   "metadata": {},
   "source": [
    "# Исследовательский анализ данных"
   ]
  },
  {
   "cell_type": "markdown",
   "id": "39db19eb",
   "metadata": {},
   "source": [
    "## Частота встречаемости городов"
   ]
  },
  {
   "cell_type": "code",
   "execution_count": 337,
   "id": "81e96f72",
   "metadata": {},
   "outputs": [
    {
     "data": {
      "image/png": "[encoded data removed]",
      "text/plain": [
       "<Figure size 432x288 with 1 Axes>"
      ]
     },
     "metadata": {
      "needs_background": "light"
     },
     "output_type": "display_data"
    }
   ],
   "source": [
    "# Воспользуемся методом value_counts(), чтобы подсчитать уникальные значения в столбце city датафрейма users.\n",
    "# И построим столбчатую диаграмму (bar) на основе данных выше, чтобы посмотреть частоту встречаемости городов.\n",
    "(\n",
    "    users['city']\n",
    "    .value_counts()\n",
    "    .plot(kind='bar',\n",
    "          rot=90,\n",
    "          legend=False,\n",
    "          grid=True)\n",
    ")\n",
    "\n",
    "plt.title('Частота встречаемости городов', fontsize=10)\n",
    "plt.xlabel('Город', fontsize=10)\n",
    "plt.ylabel('Количество', fontsize=10)\n",
    "plt.show()"
   ]
  },
  {
   "cell_type": "markdown",
   "id": "ad08a7f4",
   "metadata": {},
   "source": [
    "### Вывод\n",
    "Разброс небольшой, сервис в представленных городах работает примерно на одном уровне. В лидерах Пятигорск, в целом превалируют регионы, Москва на последнем месте, но отрыв от первого нельзя назвать огромным."
   ]
  },
  {
   "cell_type": "markdown",
   "id": "85651c4f",
   "metadata": {},
   "source": [
    "## Соотношение пользователей с подпиской и без подписки"
   ]
  },
  {
   "cell_type": "code",
   "execution_count": 338,
   "id": "3f2f49c3",
   "metadata": {},
   "outputs": [
    {
     "name": "stdout",
     "output_type": "stream",
     "text": [
      "Количество пользователей с подпиской и без подписки:\n",
      "835\n",
      "699\n",
      "\n",
      "Доля пользователей с подпиской и без подписки:\n",
      "0.544329\n",
      "0.455671\n"
     ]
    }
   ],
   "source": [
    "# Посмотрим на соотношение пользователей — количественное и процентное.\n",
    "print('Количество пользователей с подпиской и без подписки:')\n",
    "print(users['subscription_type'].value_counts().to_string(index=False))\n",
    "print()\n",
    "print('Доля пользователей с подпиской и без подписки:')\n",
    "print(users['subscription_type'].value_counts(normalize=True).to_string(index=False))"
   ]
  },
  {
   "cell_type": "code",
   "execution_count": 339,
   "id": "1c96c35b",
   "metadata": {},
   "outputs": [
    {
     "data": {
      "image/png": "[encoded data removed]",
      "text/plain": [
       "<Figure size 432x288 with 1 Axes>"
      ]
     },
     "metadata": {
      "needs_background": "light"
     },
     "output_type": "display_data"
    }
   ],
   "source": [
    "# И построим столбчатую диаграмму.\n",
    "(\n",
    "    users['subscription_type']\n",
    "    .value_counts()\n",
    "    .plot(kind='bar',\n",
    "          rot=0,\n",
    "          legend=False,\n",
    "          grid=True)\n",
    ")\n",
    "\n",
    "plt.title('Соотношение пользователей с подпиской и без подписки', fontsize=10)\n",
    "plt.xlabel('Наличие подписки\\n(free — нет, ultra — есть)', fontsize=10)\n",
    "plt.ylabel('Количество', fontsize=10)\n",
    "plt.show()"
   ]
  },
  {
   "cell_type": "markdown",
   "id": "6a4e663f",
   "metadata": {},
   "source": [
    "### Вывод\n",
    "Пользователей без подписки больше, но не намного. В целом это может говорить о достаточно высоком уровне лояльности."
   ]
  },
  {
   "cell_type": "markdown",
   "id": "aa0755ec",
   "metadata": {},
   "source": [
    "## Возраст пользователей"
   ]
  },
  {
   "cell_type": "code",
   "execution_count": 340,
   "id": "79ee0963",
   "metadata": {},
   "outputs": [
    {
     "data": {
      "image/png": "[encoded data removed]",
      "text/plain": [
       "<Figure size 504x360 with 1 Axes>"
      ]
     },
     "metadata": {
      "needs_background": "light"
     },
     "output_type": "display_data"
    }
   ],
   "source": [
    "# Функцией hist() построим гистограмму.\n",
    "# Гистограмма позволяет визуализировать распределение возрастов\n",
    "# И получить представление о том, как они распределены в определенных интервалах.\n",
    "users['age'].hist(bins=30, figsize=(7, 5))\n",
    "\n",
    "plt.title('Возраст пользователей', fontsize=12)\n",
    "plt.xlabel('Возраст', fontsize=12)\n",
    "plt.ylabel('Количество', fontsize=12)\n",
    "plt.show()"
   ]
  },
  {
   "cell_type": "code",
   "execution_count": 341,
   "id": "f8baeb77",
   "metadata": {},
   "outputs": [
    {
     "data": {
      "image/png": "[encoded data removed]",
      "text/plain": [
       "<Figure size 504x360 with 1 Axes>"
      ]
     },
     "metadata": {
      "needs_background": "light"
     },
     "output_type": "display_data"
    }
   ],
   "source": [
    "# Построим боксплот («ящик с усами»), чтобы посмотреть на распределение данных в users['age'].\n",
    "plt.figure(figsize=(7, 5))\n",
    "\n",
    "plt.boxplot(\n",
    "    users['age'],\n",
    "    sym='ro',\n",
    "    vert=False,\n",
    "    patch_artist=True\n",
    ")\n",
    "\n",
    "plt.title('Распределение возраста пользователей')\n",
    "plt.xlabel('Возраст')\n",
    "plt.yticks([1], [''])\n",
    "plt.grid(True)\n",
    "plt.show()"
   ]
  },
  {
   "cell_type": "markdown",
   "id": "8788b651",
   "metadata": {},
   "source": [
    "### Вывод\n",
    "Большая часть пользователей находится в диапазоне 22–28 лет. Медиана — 25 лет, меньше 15 и больше 40 лет — редкие значения.\n",
    "\n",
    "Так как гистограмма имеет колоколообразную форму с пиком в центре и относительно симметричными хвостами, можно сказать, что распределение данных в столбце *age* является нормальным."
   ]
  },
  {
   "cell_type": "markdown",
   "id": "00944490",
   "metadata": {},
   "source": [
    "## Расстояние, которое пользователь преодолел за одну поездку"
   ]
  },
  {
   "cell_type": "code",
   "execution_count": 342,
   "id": "57a5bf8c",
   "metadata": {},
   "outputs": [
    {
     "data": {
      "text/plain": [
       "count    18068.000000\n",
       "mean      3070.659976\n",
       "std       1116.831209\n",
       "min          0.855683\n",
       "25%       2543.226360\n",
       "50%       3133.609994\n",
       "75%       3776.222735\n",
       "max       7211.007745\n",
       "Name: distance, dtype: float64"
      ]
     },
     "execution_count": 342,
     "metadata": {},
     "output_type": "execute_result"
    }
   ],
   "source": [
    "# Методом describe() посмотрим общую статистику по столбцу distance.\n",
    "rides['distance'].describe()"
   ]
  },
  {
   "cell_type": "code",
   "execution_count": 343,
   "id": "034966bf",
   "metadata": {},
   "outputs": [
    {
     "data": {
      "image/png": "[encoded data removed]",
      "text/plain": [
       "<Figure size 432x288 with 1 Axes>"
      ]
     },
     "metadata": {
      "needs_background": "light"
     },
     "output_type": "display_data"
    }
   ],
   "source": [
    "rides['distance'].hist(bins=8)\n",
    "\n",
    "plt.title('Расстояние, которое пользователь преодолел за одну поездку', fontsize=10)\n",
    "plt.xlabel('Расстояние\\n(в метрах)', fontsize=10)\n",
    "plt.ylabel('Количество поездок', fontsize=10)\n",
    "plt.show()"
   ]
  },
  {
   "cell_type": "code",
   "execution_count": 344,
   "id": "fe567f46",
   "metadata": {},
   "outputs": [
    {
     "data": {
      "image/png": "[encoded data removed]",
      "text/plain": [
       "<Figure size 504x360 with 1 Axes>"
      ]
     },
     "metadata": {
      "needs_background": "light"
     },
     "output_type": "display_data"
    }
   ],
   "source": [
    "# Также построим боксплот, чтобы посмотреть на распределение данных.\n",
    "plt.figure(figsize=(7, 5))\n",
    "\n",
    "plt.boxplot(\n",
    "    rides['distance'],\n",
    "    sym='ro',\n",
    "    vert=False,\n",
    "    patch_artist=True\n",
    ")\n",
    "\n",
    "plt.title('Распределение расстояния,\\nкоторое пользователь преодолел за одну поездку')\n",
    "plt.xlabel('Расстояние\\n(в метрах)')\n",
    "plt.yticks([1], [''])\n",
    "plt.grid(True)\n",
    "plt.show()"
   ]
  },
  {
   "cell_type": "markdown",
   "id": "e0d35810",
   "metadata": {},
   "source": [
    "### Вывод\n",
    "Большинство поездок были совершены на расстояние от 2500 до 3800 метров. Медиана — 3133 м. Поездки на расстояние более 5000 метров редки. При этом на гистограмме видно, что часть пользователей использует самокаты для коротких поездок — до 1500 м."
   ]
  },
  {
   "cell_type": "markdown",
   "id": "e1276997",
   "metadata": {},
   "source": [
    "## Продолжительность поездок"
   ]
  },
  {
   "cell_type": "code",
   "execution_count": 345,
   "id": "06427252",
   "metadata": {},
   "outputs": [
    {
     "data": {
      "text/plain": [
       "count    18068.000000\n",
       "mean        17.805011\n",
       "std          6.091051\n",
       "min          0.500000\n",
       "25%         13.597563\n",
       "50%         17.678395\n",
       "75%         21.724800\n",
       "max         40.823963\n",
       "Name: duration, dtype: float64"
      ]
     },
     "execution_count": 345,
     "metadata": {},
     "output_type": "execute_result"
    }
   ],
   "source": [
    "rides['duration'].describe()"
   ]
  },
  {
   "cell_type": "code",
   "execution_count": 346,
   "id": "f2eb8f78",
   "metadata": {},
   "outputs": [
    {
     "data": {
      "image/png": "[encoded data removed]",
      "text/plain": [
       "<Figure size 432x288 with 1 Axes>"
      ]
     },
     "metadata": {
      "needs_background": "light"
     },
     "output_type": "display_data"
    }
   ],
   "source": [
    "rides['duration'].hist(bins=41)\n",
    "\n",
    "plt.title('Продолжительность поездок', fontsize=10)\n",
    "plt.xlabel('Время\\n(в минутах)', fontsize=10)\n",
    "plt.ylabel('Количество поездок', fontsize=10)\n",
    "plt.show()"
   ]
  },
  {
   "cell_type": "code",
   "execution_count": 347,
   "id": "80e3a8ce",
   "metadata": {},
   "outputs": [
    {
     "data": {
      "image/png": "[encoded data removed]",
      "text/plain": [
       "<Figure size 504x360 with 1 Axes>"
      ]
     },
     "metadata": {
      "needs_background": "light"
     },
     "output_type": "display_data"
    }
   ],
   "source": [
    "# И построим боксплот для rides['duration'].\n",
    "plt.figure(figsize=(7, 5))\n",
    "\n",
    "plt.boxplot(\n",
    "    rides['duration'],\n",
    "    sym='ro',\n",
    "    vert=False,\n",
    "    patch_artist=True\n",
    ")\n",
    "\n",
    "plt.title('Распределение продолжительности поездок')\n",
    "plt.xlabel('Время\\n(в минутах)')\n",
    "plt.yticks([1], [''])\n",
    "plt.grid(True)\n",
    "plt.show()"
   ]
  },
  {
   "cell_type": "markdown",
   "id": "87742b63",
   "metadata": {},
   "source": [
    "### Вывод\n",
    "Продолжительность большинства поездок — 15–20 минут. Медиана — 17 минут. Поездки короче 5 минут и дольше 30 минут редки."
   ]
  },
  {
   "cell_type": "markdown",
   "id": "6ac0b13d",
   "metadata": {},
   "source": [
    "# Объединение данных"
   ]
  },
  {
   "cell_type": "markdown",
   "id": "a55e3591",
   "metadata": {},
   "source": [
    "## Создание объединённого датафрейма"
   ]
  },
  {
   "cell_type": "code",
   "execution_count": 348,
   "id": "5ac55531",
   "metadata": {},
   "outputs": [
    {
     "name": "stdout",
     "output_type": "stream",
     "text": [
      "Размер датафрейма users до объединения: (1534, 5)\n",
      "Столбцы датафрейма users до объединения: ['user_id', 'name', 'age', 'city', 'subscription_type']\n",
      "\n",
      "Размер датафрейма rides до объединения: (18068, 5)\n",
      "Столбцы датафрейма rides до объединения: ['user_id', 'distance', 'duration', 'date', 'month']\n",
      "\n",
      "Размер датафрейма subs до объединения: (2, 4)\n",
      "Столбцы датафрейма subs до объединения: ['subscription_type', 'minute_price', 'start_ride_price', 'subscription_fee']\n"
     ]
    }
   ],
   "source": [
    "# Проведём проверку размерности для обеспечения корректности операций с данными и предотвращения потенциальных ошибок.\n",
    "# Проверим размеры и столбцы датафреймов users, rides и subs до объединения.\n",
    "print('Размер датафрейма users до объединения:', users.shape)\n",
    "print('Столбцы датафрейма users до объединения:', users.columns.tolist())\n",
    "print()\n",
    "print('Размер датафрейма rides до объединения:', rides.shape)\n",
    "print('Столбцы датафрейма rides до объединения:', rides.columns.tolist())\n",
    "print()\n",
    "print('Размер датафрейма subs до объединения:', subs.shape)\n",
    "print('Столбцы датафрейма subs до объединения:', subs.columns.tolist())"
   ]
  },
  {
   "cell_type": "code",
   "execution_count": 349,
   "id": "89eab00b",
   "metadata": {},
   "outputs": [
    {
     "data": {
      "text/html": [
       "<div>\n",
       "<style scoped>\n",
       "    .dataframe tbody tr th:only-of-type {\n",
       "        vertical-align: middle;\n",
       "    }\n",
       "\n",
       "    .dataframe tbody tr th {\n",
       "        vertical-align: top;\n",
       "    }\n",
       "\n",
       "    .dataframe thead th {\n",
       "        text-align: right;\n",
       "    }\n",
       "</style>\n",
       "<table border=\"1\" class=\"dataframe\">\n",
       "  <thead>\n",
       "    <tr style=\"text-align: right;\">\n",
       "      <th></th>\n",
       "      <th>user_id</th>\n",
       "      <th>name</th>\n",
       "      <th>age</th>\n",
       "      <th>city</th>\n",
       "      <th>subscription_type</th>\n",
       "      <th>distance</th>\n",
       "      <th>duration</th>\n",
       "      <th>date</th>\n",
       "      <th>month</th>\n",
       "      <th>minute_price</th>\n",
       "      <th>start_ride_price</th>\n",
       "      <th>subscription_fee</th>\n",
       "    </tr>\n",
       "  </thead>\n",
       "  <tbody>\n",
       "    <tr>\n",
       "      <th>0</th>\n",
       "      <td>1</td>\n",
       "      <td>Кира</td>\n",
       "      <td>22</td>\n",
       "      <td>Тюмень</td>\n",
       "      <td>ultra</td>\n",
       "      <td>4409.919140</td>\n",
       "      <td>25.599769</td>\n",
       "      <td>2021-01-01</td>\n",
       "      <td>1</td>\n",
       "      <td>6</td>\n",
       "      <td>0</td>\n",
       "      <td>199</td>\n",
       "    </tr>\n",
       "    <tr>\n",
       "      <th>1</th>\n",
       "      <td>1</td>\n",
       "      <td>Кира</td>\n",
       "      <td>22</td>\n",
       "      <td>Тюмень</td>\n",
       "      <td>ultra</td>\n",
       "      <td>2617.592153</td>\n",
       "      <td>15.816871</td>\n",
       "      <td>2021-01-18</td>\n",
       "      <td>1</td>\n",
       "      <td>6</td>\n",
       "      <td>0</td>\n",
       "      <td>199</td>\n",
       "    </tr>\n",
       "    <tr>\n",
       "      <th>2</th>\n",
       "      <td>1</td>\n",
       "      <td>Кира</td>\n",
       "      <td>22</td>\n",
       "      <td>Тюмень</td>\n",
       "      <td>ultra</td>\n",
       "      <td>754.159807</td>\n",
       "      <td>6.232113</td>\n",
       "      <td>2021-04-20</td>\n",
       "      <td>4</td>\n",
       "      <td>6</td>\n",
       "      <td>0</td>\n",
       "      <td>199</td>\n",
       "    </tr>\n",
       "    <tr>\n",
       "      <th>3</th>\n",
       "      <td>1</td>\n",
       "      <td>Кира</td>\n",
       "      <td>22</td>\n",
       "      <td>Тюмень</td>\n",
       "      <td>ultra</td>\n",
       "      <td>2694.783254</td>\n",
       "      <td>18.511000</td>\n",
       "      <td>2021-08-11</td>\n",
       "      <td>8</td>\n",
       "      <td>6</td>\n",
       "      <td>0</td>\n",
       "      <td>199</td>\n",
       "    </tr>\n",
       "    <tr>\n",
       "      <th>4</th>\n",
       "      <td>1</td>\n",
       "      <td>Кира</td>\n",
       "      <td>22</td>\n",
       "      <td>Тюмень</td>\n",
       "      <td>ultra</td>\n",
       "      <td>4028.687306</td>\n",
       "      <td>26.265803</td>\n",
       "      <td>2021-08-28</td>\n",
       "      <td>8</td>\n",
       "      <td>6</td>\n",
       "      <td>0</td>\n",
       "      <td>199</td>\n",
       "    </tr>\n",
       "    <tr>\n",
       "      <th>...</th>\n",
       "      <td>...</td>\n",
       "      <td>...</td>\n",
       "      <td>...</td>\n",
       "      <td>...</td>\n",
       "      <td>...</td>\n",
       "      <td>...</td>\n",
       "      <td>...</td>\n",
       "      <td>...</td>\n",
       "      <td>...</td>\n",
       "      <td>...</td>\n",
       "      <td>...</td>\n",
       "      <td>...</td>\n",
       "    </tr>\n",
       "    <tr>\n",
       "      <th>18063</th>\n",
       "      <td>1534</td>\n",
       "      <td>Альберт</td>\n",
       "      <td>25</td>\n",
       "      <td>Краснодар</td>\n",
       "      <td>free</td>\n",
       "      <td>3781.098080</td>\n",
       "      <td>19.822962</td>\n",
       "      <td>2021-11-04</td>\n",
       "      <td>11</td>\n",
       "      <td>8</td>\n",
       "      <td>50</td>\n",
       "      <td>0</td>\n",
       "    </tr>\n",
       "    <tr>\n",
       "      <th>18064</th>\n",
       "      <td>1534</td>\n",
       "      <td>Альберт</td>\n",
       "      <td>25</td>\n",
       "      <td>Краснодар</td>\n",
       "      <td>free</td>\n",
       "      <td>2840.423057</td>\n",
       "      <td>21.409799</td>\n",
       "      <td>2021-11-16</td>\n",
       "      <td>11</td>\n",
       "      <td>8</td>\n",
       "      <td>50</td>\n",
       "      <td>0</td>\n",
       "    </tr>\n",
       "    <tr>\n",
       "      <th>18065</th>\n",
       "      <td>1534</td>\n",
       "      <td>Альберт</td>\n",
       "      <td>25</td>\n",
       "      <td>Краснодар</td>\n",
       "      <td>free</td>\n",
       "      <td>3826.185507</td>\n",
       "      <td>18.435051</td>\n",
       "      <td>2021-11-18</td>\n",
       "      <td>11</td>\n",
       "      <td>8</td>\n",
       "      <td>50</td>\n",
       "      <td>0</td>\n",
       "    </tr>\n",
       "    <tr>\n",
       "      <th>18066</th>\n",
       "      <td>1534</td>\n",
       "      <td>Альберт</td>\n",
       "      <td>25</td>\n",
       "      <td>Краснодар</td>\n",
       "      <td>free</td>\n",
       "      <td>2902.308661</td>\n",
       "      <td>16.674362</td>\n",
       "      <td>2021-11-27</td>\n",
       "      <td>11</td>\n",
       "      <td>8</td>\n",
       "      <td>50</td>\n",
       "      <td>0</td>\n",
       "    </tr>\n",
       "    <tr>\n",
       "      <th>18067</th>\n",
       "      <td>1534</td>\n",
       "      <td>Альберт</td>\n",
       "      <td>25</td>\n",
       "      <td>Краснодар</td>\n",
       "      <td>free</td>\n",
       "      <td>2371.711192</td>\n",
       "      <td>15.893917</td>\n",
       "      <td>2021-12-29</td>\n",
       "      <td>12</td>\n",
       "      <td>8</td>\n",
       "      <td>50</td>\n",
       "      <td>0</td>\n",
       "    </tr>\n",
       "  </tbody>\n",
       "</table>\n",
       "<p>18068 rows × 12 columns</p>\n",
       "</div>"
      ],
      "text/plain": [
       "       user_id     name  age       city subscription_type     distance  \\\n",
       "0            1     Кира   22     Тюмень             ultra  4409.919140   \n",
       "1            1     Кира   22     Тюмень             ultra  2617.592153   \n",
       "2            1     Кира   22     Тюмень             ultra   754.159807   \n",
       "3            1     Кира   22     Тюмень             ultra  2694.783254   \n",
       "4            1     Кира   22     Тюмень             ultra  4028.687306   \n",
       "...        ...      ...  ...        ...               ...          ...   \n",
       "18063     1534  Альберт   25  Краснодар              free  3781.098080   \n",
       "18064     1534  Альберт   25  Краснодар              free  2840.423057   \n",
       "18065     1534  Альберт   25  Краснодар              free  3826.185507   \n",
       "18066     1534  Альберт   25  Краснодар              free  2902.308661   \n",
       "18067     1534  Альберт   25  Краснодар              free  2371.711192   \n",
       "\n",
       "        duration       date  month  minute_price  start_ride_price  \\\n",
       "0      25.599769 2021-01-01      1             6                 0   \n",
       "1      15.816871 2021-01-18      1             6                 0   \n",
       "2       6.232113 2021-04-20      4             6                 0   \n",
       "3      18.511000 2021-08-11      8             6                 0   \n",
       "4      26.265803 2021-08-28      8             6                 0   \n",
       "...          ...        ...    ...           ...               ...   \n",
       "18063  19.822962 2021-11-04     11             8                50   \n",
       "18064  21.409799 2021-11-16     11             8                50   \n",
       "18065  18.435051 2021-11-18     11             8                50   \n",
       "18066  16.674362 2021-11-27     11             8                50   \n",
       "18067  15.893917 2021-12-29     12             8                50   \n",
       "\n",
       "       subscription_fee  \n",
       "0                   199  \n",
       "1                   199  \n",
       "2                   199  \n",
       "3                   199  \n",
       "4                   199  \n",
       "...                 ...  \n",
       "18063                 0  \n",
       "18064                 0  \n",
       "18065                 0  \n",
       "18066                 0  \n",
       "18067                 0  \n",
       "\n",
       "[18068 rows x 12 columns]"
      ]
     },
     "execution_count": 349,
     "metadata": {},
     "output_type": "execute_result"
    }
   ],
   "source": [
    "# Объединим данные в один датафрейм с помощью метода merge().\n",
    "df = users.merge(rides, on='user_id').merge(subs, on='subscription_type')\n",
    "df"
   ]
  },
  {
   "cell_type": "code",
   "execution_count": 350,
   "id": "7af592fa",
   "metadata": {},
   "outputs": [
    {
     "name": "stdout",
     "output_type": "stream",
     "text": [
      "Размер результирующего датафрейма df: (18068, 12)\n",
      "Столбцы результирующего датафрейма df: ['user_id', 'name', 'age', 'city', 'subscription_type', 'distance', 'duration', 'date', 'month', 'minute_price', 'start_ride_price', 'subscription_fee']\n"
     ]
    }
   ],
   "source": [
    "# И проверим размер результирующего датафрейма df.\n",
    "print('Размер результирующего датафрейма df:', df.shape)\n",
    "print('Столбцы результирующего датафрейма df:', df.columns.tolist())"
   ]
  },
  {
   "cell_type": "markdown",
   "id": "902bde8e",
   "metadata": {},
   "source": [
    "#### Результаты проверки размерности\n",
    "После объединения мы получили результирующий датафрейм, состоящий из 18 068 строк — как самый длинный датафрейм, subs — и включающий в себя 10 столбцов — на два меньше, чем общее количество столбцов в трёх датафреймах, так как столбцы user_id и subscription_type использовались для объединения датафреймов методов merge().\n",
    "\n",
    "Соответственно, проверка размерности пройдена."
   ]
  },
  {
   "cell_type": "markdown",
   "id": "b10faa83",
   "metadata": {},
   "source": [
    "## Создание новых датафреймов"
   ]
  },
  {
   "cell_type": "code",
   "execution_count": 351,
   "id": "f8b0034b",
   "metadata": {},
   "outputs": [],
   "source": [
    "# Создадим из созданного датафрейма ещё два: с данными о пользователях без подписки и с данными о пользователях с подпиской.\n",
    "# Сделаем это с помощью логической индексации.\n",
    "# И зададим новую индексацию датафреймов с помощью метода reset_index().\n",
    "df_ultra = df.loc[df['subscription_type'] == 'ultra'].reset_index(drop=True)\n",
    "df_free = df.loc[df['subscription_type'] == 'free'].reset_index(drop=True)"
   ]
  },
  {
   "cell_type": "code",
   "execution_count": 352,
   "id": "68a33e14",
   "metadata": {},
   "outputs": [],
   "source": [
    "# Методом drop() удалим из обоих датафреймов столбец subscription_type.\n",
    "df_ultra.drop('subscription_type', axis=1, inplace=True)\n",
    "df_free.drop('subscription_type', axis=1, inplace=True)"
   ]
  },
  {
   "cell_type": "code",
   "execution_count": 353,
   "id": "b6d7a1dd",
   "metadata": {},
   "outputs": [
    {
     "data": {
      "text/html": [
       "<div>\n",
       "<style scoped>\n",
       "    .dataframe tbody tr th:only-of-type {\n",
       "        vertical-align: middle;\n",
       "    }\n",
       "\n",
       "    .dataframe tbody tr th {\n",
       "        vertical-align: top;\n",
       "    }\n",
       "\n",
       "    .dataframe thead th {\n",
       "        text-align: right;\n",
       "    }\n",
       "</style>\n",
       "<table border=\"1\" class=\"dataframe\">\n",
       "  <thead>\n",
       "    <tr style=\"text-align: right;\">\n",
       "      <th></th>\n",
       "      <th>user_id</th>\n",
       "      <th>name</th>\n",
       "      <th>age</th>\n",
       "      <th>city</th>\n",
       "      <th>distance</th>\n",
       "      <th>duration</th>\n",
       "      <th>date</th>\n",
       "      <th>month</th>\n",
       "      <th>minute_price</th>\n",
       "      <th>start_ride_price</th>\n",
       "      <th>subscription_fee</th>\n",
       "    </tr>\n",
       "  </thead>\n",
       "  <tbody>\n",
       "    <tr>\n",
       "      <th>0</th>\n",
       "      <td>1</td>\n",
       "      <td>Кира</td>\n",
       "      <td>22</td>\n",
       "      <td>Тюмень</td>\n",
       "      <td>4409.919140</td>\n",
       "      <td>25.599769</td>\n",
       "      <td>2021-01-01</td>\n",
       "      <td>1</td>\n",
       "      <td>6</td>\n",
       "      <td>0</td>\n",
       "      <td>199</td>\n",
       "    </tr>\n",
       "    <tr>\n",
       "      <th>1</th>\n",
       "      <td>1</td>\n",
       "      <td>Кира</td>\n",
       "      <td>22</td>\n",
       "      <td>Тюмень</td>\n",
       "      <td>2617.592153</td>\n",
       "      <td>15.816871</td>\n",
       "      <td>2021-01-18</td>\n",
       "      <td>1</td>\n",
       "      <td>6</td>\n",
       "      <td>0</td>\n",
       "      <td>199</td>\n",
       "    </tr>\n",
       "    <tr>\n",
       "      <th>2</th>\n",
       "      <td>1</td>\n",
       "      <td>Кира</td>\n",
       "      <td>22</td>\n",
       "      <td>Тюмень</td>\n",
       "      <td>754.159807</td>\n",
       "      <td>6.232113</td>\n",
       "      <td>2021-04-20</td>\n",
       "      <td>4</td>\n",
       "      <td>6</td>\n",
       "      <td>0</td>\n",
       "      <td>199</td>\n",
       "    </tr>\n",
       "    <tr>\n",
       "      <th>3</th>\n",
       "      <td>1</td>\n",
       "      <td>Кира</td>\n",
       "      <td>22</td>\n",
       "      <td>Тюмень</td>\n",
       "      <td>2694.783254</td>\n",
       "      <td>18.511000</td>\n",
       "      <td>2021-08-11</td>\n",
       "      <td>8</td>\n",
       "      <td>6</td>\n",
       "      <td>0</td>\n",
       "      <td>199</td>\n",
       "    </tr>\n",
       "    <tr>\n",
       "      <th>4</th>\n",
       "      <td>1</td>\n",
       "      <td>Кира</td>\n",
       "      <td>22</td>\n",
       "      <td>Тюмень</td>\n",
       "      <td>4028.687306</td>\n",
       "      <td>26.265803</td>\n",
       "      <td>2021-08-28</td>\n",
       "      <td>8</td>\n",
       "      <td>6</td>\n",
       "      <td>0</td>\n",
       "      <td>199</td>\n",
       "    </tr>\n",
       "  </tbody>\n",
       "</table>\n",
       "</div>"
      ],
      "text/plain": [
       "   user_id  name  age    city     distance   duration       date  month  \\\n",
       "0        1  Кира   22  Тюмень  4409.919140  25.599769 2021-01-01      1   \n",
       "1        1  Кира   22  Тюмень  2617.592153  15.816871 2021-01-18      1   \n",
       "2        1  Кира   22  Тюмень   754.159807   6.232113 2021-04-20      4   \n",
       "3        1  Кира   22  Тюмень  2694.783254  18.511000 2021-08-11      8   \n",
       "4        1  Кира   22  Тюмень  4028.687306  26.265803 2021-08-28      8   \n",
       "\n",
       "   minute_price  start_ride_price  subscription_fee  \n",
       "0             6                 0               199  \n",
       "1             6                 0               199  \n",
       "2             6                 0               199  \n",
       "3             6                 0               199  \n",
       "4             6                 0               199  "
      ]
     },
     "execution_count": 353,
     "metadata": {},
     "output_type": "execute_result"
    }
   ],
   "source": [
    "df_ultra.head()"
   ]
  },
  {
   "cell_type": "code",
   "execution_count": 354,
   "id": "dfd55dbc",
   "metadata": {},
   "outputs": [
    {
     "data": {
      "text/html": [
       "<div>\n",
       "<style scoped>\n",
       "    .dataframe tbody tr th:only-of-type {\n",
       "        vertical-align: middle;\n",
       "    }\n",
       "\n",
       "    .dataframe tbody tr th {\n",
       "        vertical-align: top;\n",
       "    }\n",
       "\n",
       "    .dataframe thead th {\n",
       "        text-align: right;\n",
       "    }\n",
       "</style>\n",
       "<table border=\"1\" class=\"dataframe\">\n",
       "  <thead>\n",
       "    <tr style=\"text-align: right;\">\n",
       "      <th></th>\n",
       "      <th>user_id</th>\n",
       "      <th>name</th>\n",
       "      <th>age</th>\n",
       "      <th>city</th>\n",
       "      <th>distance</th>\n",
       "      <th>duration</th>\n",
       "      <th>date</th>\n",
       "      <th>month</th>\n",
       "      <th>minute_price</th>\n",
       "      <th>start_ride_price</th>\n",
       "      <th>subscription_fee</th>\n",
       "    </tr>\n",
       "  </thead>\n",
       "  <tbody>\n",
       "    <tr>\n",
       "      <th>0</th>\n",
       "      <td>700</td>\n",
       "      <td>Айдар</td>\n",
       "      <td>22</td>\n",
       "      <td>Омск</td>\n",
       "      <td>2515.690719</td>\n",
       "      <td>14.944286</td>\n",
       "      <td>2021-01-02</td>\n",
       "      <td>1</td>\n",
       "      <td>8</td>\n",
       "      <td>50</td>\n",
       "      <td>0</td>\n",
       "    </tr>\n",
       "    <tr>\n",
       "      <th>1</th>\n",
       "      <td>700</td>\n",
       "      <td>Айдар</td>\n",
       "      <td>22</td>\n",
       "      <td>Омск</td>\n",
       "      <td>846.932642</td>\n",
       "      <td>16.234663</td>\n",
       "      <td>2021-02-01</td>\n",
       "      <td>2</td>\n",
       "      <td>8</td>\n",
       "      <td>50</td>\n",
       "      <td>0</td>\n",
       "    </tr>\n",
       "    <tr>\n",
       "      <th>2</th>\n",
       "      <td>700</td>\n",
       "      <td>Айдар</td>\n",
       "      <td>22</td>\n",
       "      <td>Омск</td>\n",
       "      <td>4004.434142</td>\n",
       "      <td>20.016628</td>\n",
       "      <td>2021-02-04</td>\n",
       "      <td>2</td>\n",
       "      <td>8</td>\n",
       "      <td>50</td>\n",
       "      <td>0</td>\n",
       "    </tr>\n",
       "    <tr>\n",
       "      <th>3</th>\n",
       "      <td>700</td>\n",
       "      <td>Айдар</td>\n",
       "      <td>22</td>\n",
       "      <td>Омск</td>\n",
       "      <td>1205.911290</td>\n",
       "      <td>9.782872</td>\n",
       "      <td>2021-02-10</td>\n",
       "      <td>2</td>\n",
       "      <td>8</td>\n",
       "      <td>50</td>\n",
       "      <td>0</td>\n",
       "    </tr>\n",
       "    <tr>\n",
       "      <th>4</th>\n",
       "      <td>700</td>\n",
       "      <td>Айдар</td>\n",
       "      <td>22</td>\n",
       "      <td>Омск</td>\n",
       "      <td>3047.379435</td>\n",
       "      <td>17.427673</td>\n",
       "      <td>2021-02-14</td>\n",
       "      <td>2</td>\n",
       "      <td>8</td>\n",
       "      <td>50</td>\n",
       "      <td>0</td>\n",
       "    </tr>\n",
       "  </tbody>\n",
       "</table>\n",
       "</div>"
      ],
      "text/plain": [
       "   user_id   name  age  city     distance   duration       date  month  \\\n",
       "0      700  Айдар   22  Омск  2515.690719  14.944286 2021-01-02      1   \n",
       "1      700  Айдар   22  Омск   846.932642  16.234663 2021-02-01      2   \n",
       "2      700  Айдар   22  Омск  4004.434142  20.016628 2021-02-04      2   \n",
       "3      700  Айдар   22  Омск  1205.911290   9.782872 2021-02-10      2   \n",
       "4      700  Айдар   22  Омск  3047.379435  17.427673 2021-02-14      2   \n",
       "\n",
       "   minute_price  start_ride_price  subscription_fee  \n",
       "0             8                50                 0  \n",
       "1             8                50                 0  \n",
       "2             8                50                 0  \n",
       "3             8                50                 0  \n",
       "4             8                50                 0  "
      ]
     },
     "execution_count": 354,
     "metadata": {},
     "output_type": "execute_result"
    }
   ],
   "source": [
    "df_free.head()"
   ]
  },
  {
   "cell_type": "markdown",
   "id": "cc4bb270",
   "metadata": {},
   "source": [
    "## Расстояние и время поездок для обеих категорий"
   ]
  },
  {
   "cell_type": "code",
   "execution_count": 355,
   "id": "7c2302a2",
   "metadata": {},
   "outputs": [
    {
     "data": {
      "text/plain": [
       "count    6500.000000\n",
       "mean     3115.445388\n",
       "std       836.895330\n",
       "min       244.210438\n",
       "25%      2785.444017\n",
       "50%      3148.637229\n",
       "75%      3560.574425\n",
       "max      5699.769662\n",
       "Name: distance, dtype: float64"
      ]
     },
     "execution_count": 355,
     "metadata": {},
     "output_type": "execute_result"
    }
   ],
   "source": [
    "df_ultra['distance'].describe()"
   ]
  },
  {
   "cell_type": "code",
   "execution_count": 356,
   "id": "4282515a",
   "metadata": {},
   "outputs": [
    {
     "data": {
      "image/png": "[encoded data removed]",
      "text/plain": [
       "<Figure size 432x288 with 1 Axes>"
      ]
     },
     "metadata": {
      "needs_background": "light"
     },
     "output_type": "display_data"
    }
   ],
   "source": [
    "df_ultra['distance'].hist(bins=6)\n",
    "\n",
    "plt.title('Расстояние, которое пользователь с подпиской\\nпреодолел за одну поездку', fontsize=10)\n",
    "plt.xlabel('Расстояние\\n(в метрах)', fontsize=10)\n",
    "plt.ylabel('Количество поездок', fontsize=10)\n",
    "plt.show()"
   ]
  },
  {
   "cell_type": "code",
   "execution_count": 357,
   "id": "9ce2e992",
   "metadata": {},
   "outputs": [
    {
     "data": {
      "image/png": "[encoded data removed]",
      "text/plain": [
       "<Figure size 504x360 with 1 Axes>"
      ]
     },
     "metadata": {
      "needs_background": "light"
     },
     "output_type": "display_data"
    }
   ],
   "source": [
    "# Построим боксплот и посмотрим на распределение расстояния, которое пользователь с подпиской преодолел за одну поездку.\n",
    "plt.figure(figsize=(7, 5))\n",
    "\n",
    "plt.boxplot(\n",
    "    df_ultra['distance'],\n",
    "    sym='ro',\n",
    "    vert=False,\n",
    "    patch_artist=True\n",
    ")\n",
    "\n",
    "plt.title('Распределение расстояния,\\nкоторое пользователь с подпиской преодолел за одну поездку', fontsize=11)\n",
    "plt.xlabel('Расстояние\\n(в метрах)')\n",
    "plt.yticks([1], [''])\n",
    "plt.grid(True)\n",
    "plt.show()"
   ]
  },
  {
   "cell_type": "markdown",
   "id": "5e2d71ae",
   "metadata": {},
   "source": [
    "Пользователи с подпиской в большинстве своём совершают поездки на расстояние 2800–3500 метров. У них немного коротких поездок и слишком длинных. Поездки на дистанции короче 1800 и длинее 4800 метров — редкость для подписчиков."
   ]
  },
  {
   "cell_type": "code",
   "execution_count": 358,
   "id": "525a4cf1",
   "metadata": {},
   "outputs": [
    {
     "data": {
      "text/plain": [
       "count    11568.000000\n",
       "mean      3045.495282\n",
       "std       1246.173806\n",
       "min          0.855683\n",
       "25%       2366.562689\n",
       "50%       3114.648465\n",
       "75%       3905.697894\n",
       "max       7211.007745\n",
       "Name: distance, dtype: float64"
      ]
     },
     "execution_count": 358,
     "metadata": {},
     "output_type": "execute_result"
    }
   ],
   "source": [
    "df_free['distance'].describe()"
   ]
  },
  {
   "cell_type": "code",
   "execution_count": 359,
   "id": "c4dab834",
   "metadata": {},
   "outputs": [
    {
     "data": {
      "image/png": "[encoded data removed]",
      "text/plain": [
       "<Figure size 432x288 with 1 Axes>"
      ]
     },
     "metadata": {
      "needs_background": "light"
     },
     "output_type": "display_data"
    }
   ],
   "source": [
    "df_free['distance'].hist(bins=8)\n",
    "\n",
    "plt.title('Расстояние, которое пользователь без подписки\\nпреодолел за одну поездку', fontsize=10)\n",
    "plt.xlabel('Расстояние\\n(в метрах)', fontsize=10)\n",
    "plt.ylabel('Количество поездок', fontsize=10)\n",
    "plt.show()"
   ]
  },
  {
   "cell_type": "code",
   "execution_count": 360,
   "id": "0f56a659",
   "metadata": {},
   "outputs": [
    {
     "data": {
      "image/png": "[encoded data removed]",
      "text/plain": [
       "<Figure size 504x360 with 1 Axes>"
      ]
     },
     "metadata": {
      "needs_background": "light"
     },
     "output_type": "display_data"
    }
   ],
   "source": [
    "# И построим такой же боксплот для, чтобы посмотреть распределение среди пользователей без подписки.\n",
    "plt.figure(figsize=(7, 5))\n",
    "\n",
    "plt.boxplot(\n",
    "    df_free['distance'],\n",
    "    sym='ro',\n",
    "    vert=False,\n",
    "    patch_artist=True\n",
    ")\n",
    "\n",
    "plt.title('Распределение расстояния,\\nкоторое пользователь без подписки преодолел за одну поездку', fontsize=11)\n",
    "plt.xlabel('Расстояние\\n(в метрах)')\n",
    "plt.yticks([1], [''])\n",
    "plt.grid(True)\n",
    "plt.show()"
   ]
  },
  {
   "cell_type": "markdown",
   "id": "de812372",
   "metadata": {},
   "source": [
    "Пользователи без подписки в основном совершают поездки в диапазоне от 2300 до 3900 метров. При этом они чаще пользователей с подпиской отправляются в путь и на совсем короткие расстояния, и на самые длинные дистанции — от меньше чем 1 до более чем 6000 м — в представленной генеральной совокупности."
   ]
  },
  {
   "cell_type": "code",
   "execution_count": 361,
   "id": "61a185b1",
   "metadata": {},
   "outputs": [
    {
     "data": {
      "text/plain": [
       "count    6500.000000\n",
       "mean       18.541985\n",
       "std         5.572048\n",
       "min         3.760353\n",
       "25%        14.524654\n",
       "50%        18.178153\n",
       "75%        21.884129\n",
       "max        40.823963\n",
       "Name: duration, dtype: float64"
      ]
     },
     "execution_count": 361,
     "metadata": {},
     "output_type": "execute_result"
    }
   ],
   "source": [
    "df_ultra['duration'].describe()"
   ]
  },
  {
   "cell_type": "code",
   "execution_count": 362,
   "id": "7d44b93b",
   "metadata": {},
   "outputs": [
    {
     "data": {
      "image/png": "[encoded data removed]",
      "text/plain": [
       "<Figure size 432x288 with 1 Axes>"
      ]
     },
     "metadata": {
      "needs_background": "light"
     },
     "output_type": "display_data"
    }
   ],
   "source": [
    "df_ultra['duration'].hist(bins=37)\n",
    "\n",
    "plt.title('Продолжительность поездок\\nпользователей с подпиской', fontsize=10)\n",
    "plt.xlabel('Время\\n(в минутах)', fontsize=10)\n",
    "plt.ylabel('Количество поездок', fontsize=10)\n",
    "plt.show()"
   ]
  },
  {
   "cell_type": "code",
   "execution_count": 363,
   "id": "d0c3b8c2",
   "metadata": {},
   "outputs": [
    {
     "data": {
      "image/png": "[encoded data removed]",
      "text/plain": [
       "<Figure size 504x360 with 1 Axes>"
      ]
     },
     "metadata": {
      "needs_background": "light"
     },
     "output_type": "display_data"
    }
   ],
   "source": [
    "# И боксплот для распределения продолжительности поездок пользователей с подпиской.\n",
    "plt.figure(figsize=(7, 5))\n",
    "\n",
    "plt.boxplot(\n",
    "    df_ultra['duration'],\n",
    "    sym='ro',\n",
    "    vert=False,\n",
    "    patch_artist=True\n",
    ")\n",
    "\n",
    "plt.title('Распределение продолжительности поездок\\nпользователей с подпиской')\n",
    "plt.xlabel('Время\\n(в минутах)')\n",
    "plt.yticks([1], [''])\n",
    "plt.grid(True)\n",
    "plt.show()"
   ]
  },
  {
   "cell_type": "markdown",
   "id": "a3866e61",
   "metadata": {},
   "source": [
    "Подписчики в основном тратят на поездки от 14 до 22 минут. Для них редки поездки меньше 4 и дольше 33 минут."
   ]
  },
  {
   "cell_type": "code",
   "execution_count": 364,
   "id": "51b6bde7",
   "metadata": {},
   "outputs": [
    {
     "data": {
      "text/plain": [
       "count    11568.000000\n",
       "mean        17.390909\n",
       "std          6.326803\n",
       "min          0.500000\n",
       "25%         12.958437\n",
       "50%         17.326890\n",
       "75%         21.594071\n",
       "max         34.948498\n",
       "Name: duration, dtype: float64"
      ]
     },
     "execution_count": 364,
     "metadata": {},
     "output_type": "execute_result"
    }
   ],
   "source": [
    "df_free['duration'].describe()"
   ]
  },
  {
   "cell_type": "code",
   "execution_count": 365,
   "id": "87a9ad38",
   "metadata": {},
   "outputs": [
    {
     "data": {
      "image/png": "[encoded data removed]",
      "text/plain": [
       "<Figure size 432x288 with 1 Axes>"
      ]
     },
     "metadata": {
      "needs_background": "light"
     },
     "output_type": "display_data"
    }
   ],
   "source": [
    "df_free['duration'].hist(bins=34)\n",
    "\n",
    "plt.title('Продолжительность поездок\\nпользователей без подписки', fontsize=10)\n",
    "plt.xlabel('Время\\n(в минутах)', fontsize=10)\n",
    "plt.ylabel('Количество поездок', fontsize=10)\n",
    "plt.show()"
   ]
  },
  {
   "cell_type": "code",
   "execution_count": 366,
   "id": "fb01d1dc",
   "metadata": {},
   "outputs": [
    {
     "data": {
      "image/png": "[encoded data removed]",
      "text/plain": [
       "<Figure size 504x360 with 1 Axes>"
      ]
     },
     "metadata": {
      "needs_background": "light"
     },
     "output_type": "display_data"
    }
   ],
   "source": [
    "# И боксплот для пользователей без подписки.\n",
    "plt.figure(figsize=(7, 5))\n",
    "\n",
    "plt.boxplot(\n",
    "    df_free['duration'],\n",
    "    sym='ro',\n",
    "    vert=False,\n",
    "    patch_artist=True\n",
    ")\n",
    "\n",
    "plt.title('Распределение продолжительности поездок\\nпользователей без подписки')\n",
    "plt.xlabel('Время\\n(в минутах)')\n",
    "plt.yticks([1], [''])\n",
    "plt.grid(True)\n",
    "plt.show()"
   ]
  },
  {
   "cell_type": "markdown",
   "id": "76c44b2a",
   "metadata": {},
   "source": [
    "По большей части продолжительность поездок пользователей без подписки составляет от 13 до 21 минуты. Однако в целом разброс продолжительности поездок варьируется от меньше чем 1 до практически 35 минут."
   ]
  },
  {
   "cell_type": "markdown",
   "id": "8b39bf8f",
   "metadata": {},
   "source": [
    "# Подсчёт выручки"
   ]
  },
  {
   "cell_type": "code",
   "execution_count": 367,
   "id": "785bccf1",
   "metadata": {},
   "outputs": [
    {
     "data": {
      "text/plain": [
       "0        26\n",
       "1        16\n",
       "2         7\n",
       "3        19\n",
       "4        27\n",
       "         ..\n",
       "18063    20\n",
       "18064    22\n",
       "18065    19\n",
       "18066    17\n",
       "18067    16\n",
       "Name: duration, Length: 18068, dtype: int64"
      ]
     },
     "execution_count": 367,
     "metadata": {},
     "output_type": "execute_result"
    }
   ],
   "source": [
    "# Округляем продолжительность каждой поездки с помощью метода «потолок» — np.ceil() — библиотеки NumPy.\n",
    "# И методом astype() приводим округлённые значения в столбце к формату int.\n",
    "df['duration'] = np.ceil(df['duration']).astype(int)\n",
    "df['duration']"
   ]
  },
  {
   "cell_type": "code",
   "execution_count": 368,
   "id": "2c333aca",
   "metadata": {},
   "outputs": [
    {
     "data": {
      "text/plain": [
       "user_id             0\n",
       "month               0\n",
       "start_ride_price    0\n",
       "minute_price        0\n",
       "subscription_fee    0\n",
       "monthly_distance    0\n",
       "monthly_duration    0\n",
       "ride_count          0\n",
       "dtype: int64"
      ]
     },
     "execution_count": 368,
     "metadata": {},
     "output_type": "execute_result"
    }
   ],
   "source": [
    "# Создадим датафрейм с агрегированными данными о поездках на основе df — датафрейма с объединёнными данными.\n",
    "df_grouped = df.groupby(\n",
    "    ['user_id',\n",
    "     'month',\n",
    "     'start_ride_price',\n",
    "     'minute_price',\n",
    "     'subscription_fee']\n",
    ").agg({\n",
    "    'distance': 'sum',\n",
    "    'duration': 'sum',\n",
    "    'user_id': 'count'\n",
    "}).rename(columns={'user_id': 'ride_count'}).reset_index()\n",
    "\n",
    "# Переименовываем столбцы.\n",
    "df_grouped.rename(columns={'distance': 'monthly_distance',\n",
    "                           'duration': 'monthly_duration'}, inplace=True)\n",
    "\n",
    "# Проверим сводную таблицу на пропуски.\n",
    "df_grouped.isna().sum()"
   ]
  },
  {
   "cell_type": "code",
   "execution_count": 369,
   "id": "62514721",
   "metadata": {},
   "outputs": [
    {
     "data": {
      "text/html": [
       "<div>\n",
       "<style scoped>\n",
       "    .dataframe tbody tr th:only-of-type {\n",
       "        vertical-align: middle;\n",
       "    }\n",
       "\n",
       "    .dataframe tbody tr th {\n",
       "        vertical-align: top;\n",
       "    }\n",
       "\n",
       "    .dataframe thead th {\n",
       "        text-align: right;\n",
       "    }\n",
       "</style>\n",
       "<table border=\"1\" class=\"dataframe\">\n",
       "  <thead>\n",
       "    <tr style=\"text-align: right;\">\n",
       "      <th></th>\n",
       "      <th>user_id</th>\n",
       "      <th>month</th>\n",
       "      <th>start_ride_price</th>\n",
       "      <th>minute_price</th>\n",
       "      <th>subscription_fee</th>\n",
       "      <th>monthly_distance</th>\n",
       "      <th>monthly_duration</th>\n",
       "      <th>ride_count</th>\n",
       "      <th>monthly_revenue</th>\n",
       "    </tr>\n",
       "  </thead>\n",
       "  <tbody>\n",
       "    <tr>\n",
       "      <th>0</th>\n",
       "      <td>1</td>\n",
       "      <td>1</td>\n",
       "      <td>0</td>\n",
       "      <td>6</td>\n",
       "      <td>199</td>\n",
       "      <td>7027.511294</td>\n",
       "      <td>42</td>\n",
       "      <td>2</td>\n",
       "      <td>451</td>\n",
       "    </tr>\n",
       "    <tr>\n",
       "      <th>1</th>\n",
       "      <td>1</td>\n",
       "      <td>4</td>\n",
       "      <td>0</td>\n",
       "      <td>6</td>\n",
       "      <td>199</td>\n",
       "      <td>754.159807</td>\n",
       "      <td>7</td>\n",
       "      <td>1</td>\n",
       "      <td>241</td>\n",
       "    </tr>\n",
       "    <tr>\n",
       "      <th>2</th>\n",
       "      <td>1</td>\n",
       "      <td>8</td>\n",
       "      <td>0</td>\n",
       "      <td>6</td>\n",
       "      <td>199</td>\n",
       "      <td>6723.470560</td>\n",
       "      <td>46</td>\n",
       "      <td>2</td>\n",
       "      <td>475</td>\n",
       "    </tr>\n",
       "    <tr>\n",
       "      <th>3</th>\n",
       "      <td>1</td>\n",
       "      <td>10</td>\n",
       "      <td>0</td>\n",
       "      <td>6</td>\n",
       "      <td>199</td>\n",
       "      <td>5809.911100</td>\n",
       "      <td>32</td>\n",
       "      <td>2</td>\n",
       "      <td>391</td>\n",
       "    </tr>\n",
       "    <tr>\n",
       "      <th>4</th>\n",
       "      <td>1</td>\n",
       "      <td>11</td>\n",
       "      <td>0</td>\n",
       "      <td>6</td>\n",
       "      <td>199</td>\n",
       "      <td>7003.499363</td>\n",
       "      <td>56</td>\n",
       "      <td>3</td>\n",
       "      <td>535</td>\n",
       "    </tr>\n",
       "    <tr>\n",
       "      <th>...</th>\n",
       "      <td>...</td>\n",
       "      <td>...</td>\n",
       "      <td>...</td>\n",
       "      <td>...</td>\n",
       "      <td>...</td>\n",
       "      <td>...</td>\n",
       "      <td>...</td>\n",
       "      <td>...</td>\n",
       "      <td>...</td>\n",
       "    </tr>\n",
       "    <tr>\n",
       "      <th>11326</th>\n",
       "      <td>1534</td>\n",
       "      <td>6</td>\n",
       "      <td>50</td>\n",
       "      <td>8</td>\n",
       "      <td>0</td>\n",
       "      <td>3409.468534</td>\n",
       "      <td>26</td>\n",
       "      <td>2</td>\n",
       "      <td>308</td>\n",
       "    </tr>\n",
       "    <tr>\n",
       "      <th>11327</th>\n",
       "      <td>1534</td>\n",
       "      <td>8</td>\n",
       "      <td>50</td>\n",
       "      <td>8</td>\n",
       "      <td>0</td>\n",
       "      <td>7622.453034</td>\n",
       "      <td>48</td>\n",
       "      <td>2</td>\n",
       "      <td>484</td>\n",
       "    </tr>\n",
       "    <tr>\n",
       "      <th>11328</th>\n",
       "      <td>1534</td>\n",
       "      <td>9</td>\n",
       "      <td>50</td>\n",
       "      <td>8</td>\n",
       "      <td>0</td>\n",
       "      <td>4928.173852</td>\n",
       "      <td>23</td>\n",
       "      <td>1</td>\n",
       "      <td>234</td>\n",
       "    </tr>\n",
       "    <tr>\n",
       "      <th>11329</th>\n",
       "      <td>1534</td>\n",
       "      <td>11</td>\n",
       "      <td>50</td>\n",
       "      <td>8</td>\n",
       "      <td>0</td>\n",
       "      <td>13350.015305</td>\n",
       "      <td>78</td>\n",
       "      <td>4</td>\n",
       "      <td>824</td>\n",
       "    </tr>\n",
       "    <tr>\n",
       "      <th>11330</th>\n",
       "      <td>1534</td>\n",
       "      <td>12</td>\n",
       "      <td>50</td>\n",
       "      <td>8</td>\n",
       "      <td>0</td>\n",
       "      <td>2371.711192</td>\n",
       "      <td>16</td>\n",
       "      <td>1</td>\n",
       "      <td>178</td>\n",
       "    </tr>\n",
       "  </tbody>\n",
       "</table>\n",
       "<p>11331 rows × 9 columns</p>\n",
       "</div>"
      ],
      "text/plain": [
       "       user_id  month  start_ride_price  minute_price  subscription_fee  \\\n",
       "0            1      1                 0             6               199   \n",
       "1            1      4                 0             6               199   \n",
       "2            1      8                 0             6               199   \n",
       "3            1     10                 0             6               199   \n",
       "4            1     11                 0             6               199   \n",
       "...        ...    ...               ...           ...               ...   \n",
       "11326     1534      6                50             8                 0   \n",
       "11327     1534      8                50             8                 0   \n",
       "11328     1534      9                50             8                 0   \n",
       "11329     1534     11                50             8                 0   \n",
       "11330     1534     12                50             8                 0   \n",
       "\n",
       "       monthly_distance  monthly_duration  ride_count  monthly_revenue  \n",
       "0           7027.511294                42           2              451  \n",
       "1            754.159807                 7           1              241  \n",
       "2           6723.470560                46           2              475  \n",
       "3           5809.911100                32           2              391  \n",
       "4           7003.499363                56           3              535  \n",
       "...                 ...               ...         ...              ...  \n",
       "11326       3409.468534                26           2              308  \n",
       "11327       7622.453034                48           2              484  \n",
       "11328       4928.173852                23           1              234  \n",
       "11329      13350.015305                78           4              824  \n",
       "11330       2371.711192                16           1              178  \n",
       "\n",
       "[11331 rows x 9 columns]"
      ]
     },
     "execution_count": 369,
     "metadata": {},
     "output_type": "execute_result"
    }
   ],
   "source": [
    "# Считаем помесячную выручку.\n",
    "df_grouped['monthly_revenue'] = (df_grouped['start_ride_price'] * df_grouped['ride_count']) +\\\n",
    "                                (df_grouped['minute_price'] * df_grouped['monthly_duration']) +\\\n",
    "                                df_grouped['subscription_fee']\n",
    "\n",
    "# И выводим получившуюся сводную таблицу на экран.\n",
    "df_grouped"
   ]
  },
  {
   "cell_type": "code",
   "execution_count": 370,
   "id": "575ffff9",
   "metadata": {},
   "outputs": [
    {
     "name": "stdout",
     "output_type": "stream",
     "text": [
      "<class 'pandas.core.frame.DataFrame'>\n",
      "RangeIndex: 11331 entries, 0 to 11330\n",
      "Data columns (total 9 columns):\n",
      " #   Column            Non-Null Count  Dtype  \n",
      "---  ------            --------------  -----  \n",
      " 0   user_id           11331 non-null  int64  \n",
      " 1   month             11331 non-null  int64  \n",
      " 2   start_ride_price  11331 non-null  int64  \n",
      " 3   minute_price      11331 non-null  int64  \n",
      " 4   subscription_fee  11331 non-null  int64  \n",
      " 5   monthly_distance  11331 non-null  float64\n",
      " 6   monthly_duration  11331 non-null  int64  \n",
      " 7   ride_count        11331 non-null  int64  \n",
      " 8   monthly_revenue   11331 non-null  int64  \n",
      "dtypes: float64(1), int64(8)\n",
      "memory usage: 796.8 KB\n"
     ]
    }
   ],
   "source": [
    "# Проверяем типы данных в сгруппированном датафрейме.\n",
    "df_grouped.info()"
   ]
  },
  {
   "cell_type": "markdown",
   "id": "f6beb6c4",
   "metadata": {},
   "source": [
    "# Проверка гипотез"
   ]
  },
  {
   "cell_type": "markdown",
   "id": "04a46b0b",
   "metadata": {},
   "source": [
    "## Тратят ли пользователи с подпиской больше времени на поездки?\n",
    "Сформулируем нулевую и альтернативную гипотезы, где:\n",
    "- H₀ — нулевая гипотеза;\n",
    "- H₁ — альтернативная гипотеза;\n",
    "- μ₁ — среднее генеральной совокупности Время поездок пользователей с подпиской;\n",
    "- μ₂ — среднее генеральной совокупности Время поездок пользователей без подписки.\n",
    "\n",
    "H₀: μ₁ > μ₂;\n",
    "\n",
    "H₁: μ₁ <= μ₂."
   ]
  },
  {
   "cell_type": "code",
   "execution_count": 371,
   "id": "d375f373",
   "metadata": {},
   "outputs": [
    {
     "name": "stdout",
     "output_type": "stream",
     "text": [
      "p-значение: 2.4959453720736625e-34\n",
      "Отвергаем нулевую гипотезу. Пользователи без подписки тратят больше времени на поездки\n"
     ]
    }
   ],
   "source": [
    "# Соберём данные продолжительности поездок для пользователей с подпиской и без подписки.\n",
    "ultra_duration = df.loc[df['subscription_type'] == 'ultra']['duration']\n",
    "free_duration = df.loc[df['subscription_type'] == 'free']['duration']\n",
    "\n",
    "# Зададим уровень статистической значимости.\n",
    "alpha = 0.05\n",
    "\n",
    "# Запускаем t-тест для двух независимых генеральных совокупностей — ultra_duration и free_duration.\n",
    "results = st.ttest_ind(ultra_duration, free_duration, alternative='greater')\n",
    "print('p-значение:', results.pvalue)\n",
    "\n",
    "# Сравниваем полученное в результате t-теста значение p-value с уровнем статистической значимости.\n",
    "if (results.pvalue < alpha):\n",
    "    print('Отвергаем нулевую гипотезу. Пользователи без подписки тратят больше времени на поездки')\n",
    "else:\n",
    "    print('Не отвергаем нулевую гипотезу. Пользователи с подпиской тратят больше времени на поездки')"
   ]
  },
  {
   "cell_type": "markdown",
   "id": "f8836123",
   "metadata": {},
   "source": [
    "### Вывод\n",
    "2.4959453720736625e-34 — число в экспоненциальном виде, где *-34* — показатель степени. Значит, оно эквивалентно очень малому числу, близкому к нулю.\n",
    "\n",
    "Это говорит о том, что у нас есть статистически значимымые доказательства, позволяющие отвергнуть нулевую гипотезу. Потому что вероятность получить наблюдаемое или ещё более далёкое от предполагаемого в нулевой гипотезе значения при условии, что нулевая гипотеза верна, крайне низка. Это позволяет нам отвергнуть нулевую гипотезу.\n",
    "\n",
    "Поэтому можно сказать, что *пользователи с подпиской не тратят больше времени на поездки.*"
   ]
  },
  {
   "cell_type": "markdown",
   "id": "962ff262",
   "metadata": {},
   "source": [
    "## Не превышает ли расстояние, которое проезжают пользователи с подпиской за одну поездку, 3130 метров?\n",
    "Сформулируем нулевую и альтернативную гипотезы, где:\n",
    "- H₀ — нулевая гипотеза;\n",
    "- H₁ — альтернативная гипотеза;\n",
    "- μ — расстояние, которое проезжают пользователи с подпиской за одну поездку;\n",
    "- 3130 — расстояние одной поездки, оптимальное с точки зрения износа самоката.\n",
    "\n",
    "H₀: μ <= 3130;\n",
    "\n",
    "H₁: μ > 3130."
   ]
  },
  {
   "cell_type": "code",
   "execution_count": 372,
   "id": "435f5be2",
   "metadata": {},
   "outputs": [
    {
     "name": "stdout",
     "output_type": "stream",
     "text": [
      "p-значение: 0.9195368847849785\n",
      "Не отвергаем нулевую гипотезу. Расстояние, которое пользователи с подпиской проезжают за одну поездку, не превышает 3130 метров\n"
     ]
    }
   ],
   "source": [
    "# Соберём данные о расстоянии поездок для пользователей с подпиской.\n",
    "ultra_distance = df.loc[df['subscription_type'] == 'ultra']['distance']\n",
    "\n",
    "# Оптимальное расстояние с точки зрения износа самоката.\n",
    "optimal_distance = 3130\n",
    "\n",
    "# Уровень статистической значимости.\n",
    "alpha = 0.05\n",
    "\n",
    "# t-тест для среднего генеральной совокупности ultra_distance и значения optimal_distance.\n",
    "results = st.ttest_1samp(ultra_distance, optimal_distance, alternative='greater')\n",
    "print('p-значение:', results.pvalue)\n",
    "\n",
    "# Сравниваем значение p-value с уровнем статистической значимости.\n",
    "if (results.pvalue < alpha):\n",
    "    print('Отвергаем нулевую гипотезу. Расстояние, которое пользователи с подпиской проезжают за одну поездку, превышает 3130 метров')\n",
    "else:\n",
    "    print('Не отвергаем нулевую гипотезу. Расстояние, которое пользователи с подпиской проезжают за одну поездку, не превышает 3130 метров')"
   ]
  },
  {
   "cell_type": "markdown",
   "id": "ed39ba86",
   "metadata": {},
   "source": [
    "### Вывод\n",
    "p-значение равное 0.9195368847849785 говорит о том, что у нас нет статистически значимымых доказательств, позволяющих отвергнуть нулевую гипотезу. Вероятность получить наблюдаемое или ещё более далёкое от предполагаемого в нулевой гипотезе значения при условии, что нулевая гипотеза верна, равна ~91%.\n",
    "\n",
    "Поэтому можно сказать, что *расстояние, которое пользователи с подпиской проезжают за одну поездку, не превышает 3130 метров.*"
   ]
  },
  {
   "cell_type": "markdown",
   "id": "de1759f5",
   "metadata": {},
   "source": [
    "## Будет ли помесячная выручка от пользователей с подпиской по месяцам выше, чем выручка от пользователей без подписки?\n",
    "Сформулируем нулевую и альтернативную гипотезы, где:\n",
    "- H₀ — нулевая гипотеза;\n",
    "- H₁ — альтернативная гипотеза;\n",
    "- μ₁ — среднее генеральной совокупности Помесячная выручка от пользователей с подпиской по месяцам;\n",
    "- μ₂ — среднее генеральной совокупности Помесячная выручка от пользователей без подписки по месяцам.\n",
    "\n",
    "H₀: μ₁ > μ₂;\n",
    "\n",
    "H₁: μ₁ <= μ₂."
   ]
  },
  {
   "cell_type": "code",
   "execution_count": 373,
   "id": "e00e794d",
   "metadata": {},
   "outputs": [
    {
     "name": "stdout",
     "output_type": "stream",
     "text": [
      "p-значение: 1.8850394384715216e-31\n",
      "Отвергаем нулевую гипотезу. Помесячная выручка от пользователей без подписки по месяцам будет выше, чем выручка от пользователей с подпиской.\n"
     ]
    }
   ],
   "source": [
    "# Данные помесячной выручки от пользователей с подпиской по месяцам.\n",
    "ultra_monthly_revenue = df_grouped.loc[df_grouped['subscription_fee'] == 199]['monthly_revenue']\n",
    "# И данные помесячной выручки от пользователей без подписки.\n",
    "free_monthly_revenue = df_grouped.loc[df_grouped['subscription_fee'] == 0]['monthly_revenue']\n",
    "\n",
    "# Уровень статистической значимости.\n",
    "alpha = 0.05\n",
    "\n",
    "# t-тест для двух независимых генеральных совокупностей — ultra_monthly_revenue и free_monthly_revenue.\n",
    "results = st.ttest_ind(ultra_monthly_revenue, free_monthly_revenue, alternative='greater')\n",
    "print('p-значение:', results.pvalue)\n",
    "\n",
    "# Сравниваем p-value с уровнем статистической значимости.\n",
    "if (results.pvalue < alpha):\n",
    "    print('Отвергаем нулевую гипотезу. Помесячная выручка от пользователей без подписки по месяцам будет выше, чем выручка от пользователей с подпиской.')\n",
    "else:\n",
    "    print('Не отвергаем нулевую гипотезу. Помесячная выручка от пользователей с подпиской по месяцам будет выше, чем выручка от пользователей без подписки.')"
   ]
  },
  {
   "cell_type": "markdown",
   "id": "2e3c1571",
   "metadata": {},
   "source": [
    "### Вывод\n",
    "p-значение равное 1.8850394384715216e-31 близко к нулю. Значит, что у нас есть статистически значимымые доказательства, позволяющие отвергнуть нулевую гипотезу. Потому что вероятность получить наблюдаемое или ещё более далёкое от предполагаемого в нулевой гипотезе значения при условии, что нулевая гипотеза верна, крайне низка.\n",
    "\n",
    "Можно сказать, что *помесячная выручка от пользователей с подпиской по месяцам не будет выше, чем выручка от пользователей без подписки*."
   ]
  },
  {
   "cell_type": "markdown",
   "id": "de7fc038",
   "metadata": {},
   "source": [
    "## Какой тест понадобился бы для проверки гипотезы о снижении обращений в техподдержку?"
   ]
  },
  {
   "cell_type": "markdown",
   "id": "c72ef48f",
   "metadata": {},
   "source": [
    "Так как количество обращений в техподдержку до обновления серверов и после связанные являются зависимыми (парными) выборками, лучше обратиться к методу scipy.stats.ttest_rel() библиотеки SciPy для проведения *t-теста для парных выборок.*"
   ]
  },
  {
   "cell_type": "markdown",
   "id": "438cac0e",
   "metadata": {},
   "source": [
    "# Общий вывод\n",
    "\n",
    "- **Разброс по городам  небольшой**, сервис в представленных городах работает примерно на одном уровне. В лидерах Пятигорск, в целом превалируют регионы, Москва на последнем месте, но отрыв от первого нельзя назвать огромным.\n",
    "- **Пользователей без подписки больше, но не намного**. В целом это может говорить о достаточно высоком уровне лояльности.\n",
    "- Большая часть пользователей находится в диапазоне **22–28 лет.**\n",
    "- Большинство поездок были совершены на расстояние **от 2500 до 3800 метров.**\n",
    "- Продолжительность большинства поездок — **15–20 минут.**\n",
    "- Пользователи с подпиской в большинстве своём совершают поездки на расстояние **2800–3500 метров.** У них **меньше коротких поездок и слишком длинных.**\n",
    "- Пользователи без подписки в основном совершают поездки в диапазоне **от 2300 до 3900 метров.** При этом они чаще пользователей с подпиской отправляются в путь **и на совсем короткие расстояния, и на длинные дистанции.**\n",
    "- Пользователи с подпиской **не тратят больше времени на поездки.**\n",
    "- Расстояние, которое пользователи с подпиской проезжают за одну поездку, **не превышает оптимальное с точки зрения износа самоката — 3130 метров.**\n",
    "- **Помесячная выручка от пользователей с подпиской по месяцам не будет выше**, чем выручка от пользователей без подписки."
   ]
  },
  {
   "cell_type": "markdown",
   "id": "cafcc353",
   "metadata": {},
   "source": [
    "# Рекомендации по развитию аренды самокатов\n",
    "- Сервис представлен в разных городах относительно равномерно, однако эти города разные. Москва — самый большой рынок, на котором всегда будет куда расти. Здесь больше потенциальных пользователей, подписчиков и больше расстояния — всё это положительно отразится на основных показателях деятельности (количество поездок, расстояние, продолжительность) и, соответственно, на выручке.\n",
    "- Учитывая долю пользователей с подпиской, сервис движется в правильном направлении, делая ставку на увеличение их числа, что предполагает внедрение новых возможностей, недоступных пользователям без подписки.\n",
    "- Так как пользователи с подпиской на данный момент не приносят помесячной выручки больше, чем пользователи без подписки, а также на текущий момент не тратят больше времени на поездки, следует подумать, не связаны ли эти два факта между собой. И если связаны, то подумать, не стоит ли направить грядущие промоакции не только на стимулирование пользователей без подписки купить её, но и на мотивирование подписчиков, например, преодолевать большие расстояния.\n",
    "- Необходимо уменьшить среднее расстояние одной поездки пользователей без подписки, так как это может негативно сказаться на техническом состоянии самокатов. Или же увеличивать их стойкость к износу."
   ]
  }
 ],
 "metadata": {
  "ExecuteTimeLog": [
   {
    "duration": 1131,
    "start_time": "2023-06-13T16:06:13.284Z"
   },
   {
    "duration": 75,
    "start_time": "2023-06-13T16:06:14.416Z"
   },
   {
    "duration": 12,
    "start_time": "2023-06-13T16:06:14.493Z"
   },
   {
    "duration": 12,
    "start_time": "2023-06-13T16:06:14.507Z"
   },
   {
    "duration": 15,
    "start_time": "2023-06-13T16:06:14.521Z"
   },
   {
    "duration": 26,
    "start_time": "2023-06-13T16:06:14.538Z"
   },
   {
    "duration": 21,
    "start_time": "2023-06-13T16:06:14.565Z"
   },
   {
    "duration": 17,
    "start_time": "2023-06-13T16:06:14.588Z"
   },
   {
    "duration": 11,
    "start_time": "2023-06-13T16:06:14.606Z"
   },
   {
    "duration": 6,
    "start_time": "2023-06-13T16:06:14.619Z"
   },
   {
    "duration": 28,
    "start_time": "2023-06-13T16:06:14.627Z"
   },
   {
    "duration": 9,
    "start_time": "2023-06-13T16:06:14.656Z"
   },
   {
    "duration": 5,
    "start_time": "2023-06-13T16:06:14.667Z"
   },
   {
    "duration": 15,
    "start_time": "2023-06-13T16:06:14.675Z"
   },
   {
    "duration": 7,
    "start_time": "2023-06-13T16:06:14.692Z"
   },
   {
    "duration": 12,
    "start_time": "2023-06-13T16:06:14.701Z"
   },
   {
    "duration": 202,
    "start_time": "2023-06-13T16:06:14.715Z"
   },
   {
    "duration": 10,
    "start_time": "2023-06-13T16:06:14.919Z"
   },
   {
    "duration": 161,
    "start_time": "2023-06-13T16:06:14.931Z"
   },
   {
    "duration": 198,
    "start_time": "2023-06-13T16:06:15.094Z"
   },
   {
    "duration": 10,
    "start_time": "2023-06-13T16:06:15.294Z"
   },
   {
    "duration": 179,
    "start_time": "2023-06-13T16:06:15.306Z"
   },
   {
    "duration": 10,
    "start_time": "2023-06-13T16:06:15.486Z"
   },
   {
    "duration": 204,
    "start_time": "2023-06-13T16:06:15.498Z"
   },
   {
    "duration": 32,
    "start_time": "2023-06-13T16:06:15.704Z"
   },
   {
    "duration": 23,
    "start_time": "2023-06-13T16:06:15.738Z"
   },
   {
    "duration": 7,
    "start_time": "2023-06-13T16:06:15.762Z"
   },
   {
    "duration": 13,
    "start_time": "2023-06-13T16:06:15.770Z"
   },
   {
    "duration": 14,
    "start_time": "2023-06-13T16:06:15.785Z"
   },
   {
    "duration": 30,
    "start_time": "2023-06-13T16:06:15.801Z"
   },
   {
    "duration": 26,
    "start_time": "2023-06-13T16:06:15.834Z"
   },
   {
    "duration": 196,
    "start_time": "2023-06-13T16:06:15.863Z"
   },
   {
    "duration": 199,
    "start_time": "2023-06-13T16:06:16.061Z"
   },
   {
    "duration": 9,
    "start_time": "2023-06-13T16:06:16.262Z"
   },
   {
    "duration": 28,
    "start_time": "2023-06-13T16:06:16.272Z"
   },
   {
    "duration": 211,
    "start_time": "2023-06-13T16:06:16.302Z"
   },
   {
    "duration": 209,
    "start_time": "2023-06-13T16:06:16.515Z"
   },
   {
    "duration": 137,
    "start_time": "2023-06-13T16:06:16.726Z"
   },
   {
    "duration": 12,
    "start_time": "2023-06-13T16:06:16.865Z"
   },
   {
    "duration": 11,
    "start_time": "2023-06-13T16:06:16.879Z"
   },
   {
    "duration": 19,
    "start_time": "2023-06-13T16:06:16.894Z"
   },
   {
    "duration": 39,
    "start_time": "2023-06-13T16:06:16.915Z"
   },
   {
    "duration": 10,
    "start_time": "2023-06-13T16:12:33.231Z"
   },
   {
    "duration": 12,
    "start_time": "2023-06-13T16:12:34.484Z"
   },
   {
    "duration": 8,
    "start_time": "2023-06-13T16:13:40.391Z"
   },
   {
    "duration": 9,
    "start_time": "2023-06-13T16:13:42.915Z"
   },
   {
    "duration": 1265,
    "start_time": "2023-06-13T20:48:07.435Z"
   },
   {
    "duration": 75,
    "start_time": "2023-06-13T20:48:08.703Z"
   },
   {
    "duration": 15,
    "start_time": "2023-06-13T20:48:08.780Z"
   },
   {
    "duration": 14,
    "start_time": "2023-06-13T20:48:08.797Z"
   },
   {
    "duration": 25,
    "start_time": "2023-06-13T20:48:08.813Z"
   },
   {
    "duration": 24,
    "start_time": "2023-06-13T20:48:08.841Z"
   },
   {
    "duration": 24,
    "start_time": "2023-06-13T20:48:08.867Z"
   },
   {
    "duration": 20,
    "start_time": "2023-06-13T20:48:08.893Z"
   },
   {
    "duration": 13,
    "start_time": "2023-06-13T20:48:08.914Z"
   },
   {
    "duration": 5,
    "start_time": "2023-06-13T20:48:08.930Z"
   },
   {
    "duration": 9,
    "start_time": "2023-06-13T20:48:08.937Z"
   },
   {
    "duration": 13,
    "start_time": "2023-06-13T20:48:08.948Z"
   },
   {
    "duration": 23,
    "start_time": "2023-06-13T20:48:08.962Z"
   },
   {
    "duration": 9,
    "start_time": "2023-06-13T20:48:08.987Z"
   },
   {
    "duration": 7,
    "start_time": "2023-06-13T20:48:08.998Z"
   },
   {
    "duration": 12,
    "start_time": "2023-06-13T20:48:09.007Z"
   },
   {
    "duration": 174,
    "start_time": "2023-06-13T20:48:09.021Z"
   },
   {
    "duration": 8,
    "start_time": "2023-06-13T20:48:09.197Z"
   },
   {
    "duration": 143,
    "start_time": "2023-06-13T20:48:09.207Z"
   },
   {
    "duration": 170,
    "start_time": "2023-06-13T20:48:09.352Z"
   },
   {
    "duration": 9,
    "start_time": "2023-06-13T20:48:09.523Z"
   },
   {
    "duration": 164,
    "start_time": "2023-06-13T20:48:09.533Z"
   },
   {
    "duration": 8,
    "start_time": "2023-06-13T20:48:09.699Z"
   },
   {
    "duration": 217,
    "start_time": "2023-06-13T20:48:09.708Z"
   },
   {
    "duration": 6,
    "start_time": "2023-06-13T20:48:09.927Z"
   },
   {
    "duration": 45,
    "start_time": "2023-06-13T20:48:09.934Z"
   },
   {
    "duration": 3,
    "start_time": "2023-06-13T20:48:09.981Z"
   },
   {
    "duration": 16,
    "start_time": "2023-06-13T20:48:09.987Z"
   },
   {
    "duration": 7,
    "start_time": "2023-06-13T20:48:10.005Z"
   },
   {
    "duration": 31,
    "start_time": "2023-06-13T20:48:10.013Z"
   },
   {
    "duration": 36,
    "start_time": "2023-06-13T20:48:10.046Z"
   },
   {
    "duration": 9,
    "start_time": "2023-06-13T20:48:10.083Z"
   },
   {
    "duration": 11,
    "start_time": "2023-06-13T20:48:10.094Z"
   },
   {
    "duration": 152,
    "start_time": "2023-06-13T20:48:10.107Z"
   },
   {
    "duration": 154,
    "start_time": "2023-06-13T20:48:10.261Z"
   },
   {
    "duration": 9,
    "start_time": "2023-06-13T20:48:10.417Z"
   },
   {
    "duration": 12,
    "start_time": "2023-06-13T20:48:10.428Z"
   },
   {
    "duration": 179,
    "start_time": "2023-06-13T20:48:10.456Z"
   },
   {
    "duration": 184,
    "start_time": "2023-06-13T20:48:10.637Z"
   },
   {
    "duration": 8,
    "start_time": "2023-06-13T20:48:10.823Z"
   },
   {
    "duration": 38,
    "start_time": "2023-06-13T20:48:10.833Z"
   },
   {
    "duration": 112,
    "start_time": "2023-06-13T20:48:10.872Z"
   },
   {
    "duration": 11,
    "start_time": "2023-06-13T20:48:10.986Z"
   },
   {
    "duration": 21,
    "start_time": "2023-06-13T20:48:10.998Z"
   },
   {
    "duration": 9,
    "start_time": "2023-06-13T20:48:11.020Z"
   },
   {
    "duration": 36,
    "start_time": "2023-06-13T20:48:11.030Z"
   },
   {
    "duration": 8,
    "start_time": "2023-06-13T20:51:11.437Z"
   },
   {
    "duration": 8,
    "start_time": "2023-06-13T20:51:14.386Z"
   }
  ],
  "kernelspec": {
   "display_name": "Python 3 (ipykernel)",
   "language": "python",
   "name": "python3"
  },
  "language_info": {
   "codemirror_mode": {
    "name": "ipython",
    "version": 3
   },
   "file_extension": ".py",
   "mimetype": "text/x-python",
   "name": "python",
   "nbconvert_exporter": "python",
   "pygments_lexer": "ipython3",
   "version": "3.9.17"
  },
  "toc": {
   "base_numbering": 1,
   "nav_menu": {},
   "number_sections": true,
   "sideBar": true,
   "skip_h1_title": true,
   "title_cell": "Table of Contents",
   "title_sidebar": "Contents",
   "toc_cell": false,
   "toc_position": {},
   "toc_section_display": true,
   "toc_window_display": true
  }
 },
 "nbformat": 4,
 "nbformat_minor": 5
}
